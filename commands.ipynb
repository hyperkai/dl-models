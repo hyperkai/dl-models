{
 "cells": [
  {
   "cell_type": "code",
   "execution_count": 23,
   "id": "ebdeddd5-bf96-4720-8330-f5ef6e744bfa",
   "metadata": {},
   "outputs": [
    {
     "name": "stdout",
     "output_type": "stream",
     "text": [
      "On branch main\n",
      "Your branch is up to date with 'origin/main'.\n",
      "\n",
      "nothing to commit, working tree clean\n"
     ]
    },
    {
     "name": "stderr",
     "output_type": "stream",
     "text": [
      "Everything up-to-date\n"
     ]
    }
   ],
   "source": [
    "# %pwd\n",
    "# %cd dl-models\n",
    "# %cd ..\n",
    "# %ls\n",
    "# %ls .\n",
    "# !git clone https://github.com/hyperkai/dl-models.git\n",
    "# !git clone https://<fgpat or pat>@github.com/hyperkai/dl-models.git\n",
    "\n",
    "# !git config --global user.name \"hyperkai\"\n",
    "# !git config --global user.email \"email@address.com\"\n",
    "\n",
    "!git add -A\n",
    "!git commit -m \"New\"\n",
    "!git push origin main\n",
    "# !git push origin main --force"
   ]
  }
 ],
 "metadata": {
  "kernelspec": {
   "display_name": "Python 3 (ipykernel)",
   "language": "python",
   "name": "python3"
  },
  "language_info": {
   "codemirror_mode": {
    "name": "ipython",
    "version": 3
   },
   "file_extension": ".py",
   "mimetype": "text/x-python",
   "name": "python",
   "nbconvert_exporter": "python",
   "pygments_lexer": "ipython3",
   "version": "3.12.4"
  }
 },
 "nbformat": 4,
 "nbformat_minor": 5
}
