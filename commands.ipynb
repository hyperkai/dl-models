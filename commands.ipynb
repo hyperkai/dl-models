{
 "cells": [
  {
   "cell_type": "code",
   "execution_count": 21,
   "id": "ebdeddd5-bf96-4720-8330-f5ef6e744bfa",
   "metadata": {},
   "outputs": [
    {
     "name": "stderr",
     "output_type": "stream",
     "text": [
      "warning: in the working copy of 'commands.ipynb', LF will be replaced by CRLF the next time Git touches it\n",
      "warning: in the working copy of 'lr.ipynb', LF will be replaced by CRLF the next time Git touches it\n",
      "warning: in the working copy of 'lr_bgd_mbgd_sgd_dl.ipynb', LF will be replaced by CRLF the next time Git touches it\n",
      "warning: in the working copy of 'practice.ipynb', LF will be replaced by CRLF the next time Git touches it\n"
     ]
    },
    {
     "name": "stdout",
     "output_type": "stream",
     "text": [
      "[main 7d0a228] New\n",
      " 4 files changed, 315 insertions(+), 30 deletions(-)\n",
      " create mode 100644 practice.ipynb\n"
     ]
    },
    {
     "name": "stderr",
     "output_type": "stream",
     "text": [
      "To https://github.com/hyperkai/dl-models.git\n",
      " ! [rejected]        main -> main (fetch first)\n",
      "error: failed to push some refs to 'https://github.com/hyperkai/dl-models.git'\n",
      "hint: Updates were rejected because the remote contains work that you do not\n",
      "hint: have locally. This is usually caused by another repository pushing to\n",
      "hint: the same ref. If you want to integrate the remote changes, use\n",
      "hint: 'git pull' before pushing again.\n",
      "hint: See the 'Note about fast-forwards' in 'git push --help' for details.\n"
     ]
    }
   ],
   "source": [
    "# %pwd\n",
    "# %cd dl-models\n",
    "# %cd ..\n",
    "# %ls\n",
    "# %ls .\n",
    "# !git clone https://github.com/hyperkai/dl-models.git\n",
    "# !git clone https://<fgpat or pat>@github.com/hyperkai/dl-models.git\n",
    "\n",
    "# !git config --global user.name \"hyperkai\"\n",
    "# !git config --global user.email \"email@address.com\"\n",
    "\n",
    "!git add -A\n",
    "!git commit -m \"New\"\n",
    "!git push origin main"
   ]
  }
 ],
 "metadata": {
  "kernelspec": {
   "display_name": "Python 3 (ipykernel)",
   "language": "python",
   "name": "python3"
  },
  "language_info": {
   "codemirror_mode": {
    "name": "ipython",
    "version": 3
   },
   "file_extension": ".py",
   "mimetype": "text/x-python",
   "name": "python",
   "nbconvert_exporter": "python",
   "pygments_lexer": "ipython3",
   "version": "3.12.4"
  }
 },
 "nbformat": 4,
 "nbformat_minor": 5
}
