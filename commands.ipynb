{
 "cells": [
  {
   "cell_type": "code",
   "execution_count": 20,
   "id": "ebdeddd5-bf96-4720-8330-f5ef6e744bfa",
   "metadata": {},
   "outputs": [
    {
     "name": "stderr",
     "output_type": "stream",
     "text": [
      "warning: in the working copy of 'README.md', LF will be replaced by CRLF the next time Git touches it\n",
      "warning: in the working copy of 'commands.ipynb', LF will be replaced by CRLF the next time Git touches it\n",
      "warning: in the working copy of 'lr.ipynb', LF will be replaced by CRLF the next time Git touches it\n",
      "warning: in the working copy of 'lr_bgd_mbgd_sgd_dl.ipynb', LF will be replaced by CRLF the next time Git touches it\n"
     ]
    },
    {
     "name": "stdout",
     "output_type": "stream",
     "text": [
      "[main f13720d] New\n",
      " 9 files changed, 448 insertions(+), 224 deletions(-)\n",
      " delete mode 100644 linear_regression.ipynb\n",
      " create mode 100644 lr.ipynb\n",
      " create mode 100644 lr_bgd_mbgd_sgd_dl.ipynb\n",
      " rename results/{linear_regression_0.pth => lr_0.pth} (100%)\n",
      " create mode 100644 results/lr_bgd_dl_0.pth\n",
      " create mode 100644 results/lr_mbgd_dl_0.pth\n",
      " create mode 100644 results/lr_sgd_dl_0.pth\n"
     ]
    },
    {
     "name": "stderr",
     "output_type": "stream",
     "text": [
      "To https://github.com/hyperkai/dl-models.git\n",
      "   77796b2..f13720d  main -> main\n"
     ]
    }
   ],
   "source": [
    "# %pwd\n",
    "# %cd dl-models\n",
    "# %cd ..\n",
    "# %ls\n",
    "# %ls .\n",
    "# !git clone https://github.com/hyperkai/dl-models.git\n",
    "# !git clone https://<fgpat or pat>@github.com/hyperkai/dl-models.git\n",
    "\n",
    "# !git config --global user.name \"hyperkai\"\n",
    "# !git config --global user.email \"email@address.com\"\n",
    "\n",
    "!git add -A\n",
    "!git commit -m \"New\"\n",
    "!git push origin main"
   ]
  }
 ],
 "metadata": {
  "kernelspec": {
   "display_name": "Python 3 (ipykernel)",
   "language": "python",
   "name": "python3"
  },
  "language_info": {
   "codemirror_mode": {
    "name": "ipython",
    "version": 3
   },
   "file_extension": ".py",
   "mimetype": "text/x-python",
   "name": "python",
   "nbconvert_exporter": "python",
   "pygments_lexer": "ipython3",
   "version": "3.12.4"
  }
 },
 "nbformat": 4,
 "nbformat_minor": 5
}
