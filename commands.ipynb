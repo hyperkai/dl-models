{
 "cells": [
  {
   "cell_type": "code",
   "execution_count": 17,
   "id": "ebdeddd5-bf96-4720-8330-f5ef6e744bfa",
   "metadata": {},
   "outputs": [
    {
     "name": "stdout",
     "output_type": "stream",
     "text": [
      " Volume in drive C has no label.\n",
      " Volume Serial Number is 908B-E06A\n",
      "\n",
      " Directory of C:\\Users\\kazya\\dl-models\n",
      "\n",
      "10/25/2024  09:46 PM    <DIR>          .\n",
      "10/25/2024  04:43 PM    <DIR>          ..\n",
      "10/25/2024  08:34 AM             3,301 .gitignore\n",
      "10/25/2024  04:44 PM    <DIR>          .ipynb_checkpoints\n",
      "10/25/2024  09:46 PM             1,276 commands.ipynb\n",
      "10/25/2024  08:34 AM             1,094 LICENSE\n",
      "10/25/2024  04:32 PM            71,914 linear_regression.ipynb\n",
      "10/25/2024  08:34 AM                11 README.md\n",
      "10/25/2024  04:31 PM    <DIR>          results\n",
      "               5 File(s)         77,596 bytes\n",
      "               4 Dir(s)  399,581,904,896 bytes free\n"
     ]
    }
   ],
   "source": [
    "# %pwd\n",
    "# %cd dl-models\n",
    "# %cd ..\n",
    "# %ls\n",
    "# %ls .\n",
    "# !git clone https://github.com/hyperkai/dl-models.git\n",
    "# !git clone https://<fgpat or pat>@github.com/hyperkai/dl-models.git\n",
    "\n",
    "# !git config --global user.name \"hyperkai\"\n",
    "# !git config --global user.email \"email@address.com\"\n",
    "\n",
    "# !git add -A\n",
    "# !git commit -m \"New\"\n",
    "# !git push origin main"
   ]
  }
 ],
 "metadata": {
  "kernelspec": {
   "display_name": "Python 3 (ipykernel)",
   "language": "python",
   "name": "python3"
  },
  "language_info": {
   "codemirror_mode": {
    "name": "ipython",
    "version": 3
   },
   "file_extension": ".py",
   "mimetype": "text/x-python",
   "name": "python",
   "nbconvert_exporter": "python",
   "pygments_lexer": "ipython3",
   "version": "3.12.4"
  }
 },
 "nbformat": 4,
 "nbformat_minor": 5
}
